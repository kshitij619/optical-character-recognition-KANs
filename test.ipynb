{
  "cells": [
    {
      "cell_type": "markdown",
      "id": "74f90044",
      "metadata": {},
      "source": [
        "dataset - https://www.kaggle.com/datasets/sachinpatel21/az-handwritten-alphabets-in-csv-format/data\n",
        "\n",
        "reference code - https://www.kaggle.com/code/mahmutyldrmm/a-z-handwritting-alphabets-project"
      ]
    },
    {
      "cell_type": "markdown",
      "id": "1171dcbe",
      "metadata": {},
      "source": [
        "# Imports"
      ]
    },
    {
      "cell_type": "code",
      "execution_count": 27,
      "id": "qZk533YKObN_",
      "metadata": {
        "colab": {
          "base_uri": "https://localhost:8080/"
        },
        "id": "qZk533YKObN_",
        "outputId": "5bb8f330-180a-4c9e-b825-0d35fb9418d0"
      },
      "outputs": [
        {
          "name": "stdout",
          "output_type": "stream",
          "text": [
            "Requirement already satisfied: tqdm in c:\\users\\kshitij\\downloads\\major project\\.venv\\lib\\site-packages (4.67.1)\n",
            "Requirement already satisfied: colorama in c:\\users\\kshitij\\downloads\\major project\\.venv\\lib\\site-packages (from tqdm) (0.4.6)\n",
            "Note: you may need to restart the kernel to use updated packages.\n",
            "Requirement already satisfied: torch in c:\\users\\kshitij\\downloads\\major project\\.venv\\lib\\site-packages (2.9.0)\n",
            "Requirement already satisfied: filelock in c:\\users\\kshitij\\downloads\\major project\\.venv\\lib\\site-packages (from torch) (3.20.0)\n",
            "Requirement already satisfied: typing-extensions>=4.10.0 in c:\\users\\kshitij\\downloads\\major project\\.venv\\lib\\site-packages (from torch) (4.15.0)\n",
            "Requirement already satisfied: sympy>=1.13.3 in c:\\users\\kshitij\\downloads\\major project\\.venv\\lib\\site-packages (from torch) (1.14.0)\n",
            "Requirement already satisfied: networkx>=2.5.1 in c:\\users\\kshitij\\downloads\\major project\\.venv\\lib\\site-packages (from torch) (3.5)\n",
            "Requirement already satisfied: jinja2 in c:\\users\\kshitij\\downloads\\major project\\.venv\\lib\\site-packages (from torch) (3.1.6)\n",
            "Requirement already satisfied: fsspec>=0.8.5 in c:\\users\\kshitij\\downloads\\major project\\.venv\\lib\\site-packages (from torch) (2025.9.0)\n",
            "Requirement already satisfied: mpmath<1.4,>=1.1.0 in c:\\users\\kshitij\\downloads\\major project\\.venv\\lib\\site-packages (from sympy>=1.13.3->torch) (1.3.0)\n",
            "Requirement already satisfied: MarkupSafe>=2.0 in c:\\users\\kshitij\\downloads\\major project\\.venv\\lib\\site-packages (from jinja2->torch) (3.0.3)\n",
            "Note: you may need to restart the kernel to use updated packages.\n",
            "Requirement already satisfied: pandas in c:\\users\\kshitij\\downloads\\major project\\.venv\\lib\\site-packages (2.3.3)\n",
            "Requirement already satisfied: numpy>=1.23.2 in c:\\users\\kshitij\\downloads\\major project\\.venv\\lib\\site-packages (from pandas) (2.3.4)\n",
            "Requirement already satisfied: python-dateutil>=2.8.2 in c:\\users\\kshitij\\downloads\\major project\\.venv\\lib\\site-packages (from pandas) (2.9.0.post0)\n",
            "Requirement already satisfied: pytz>=2020.1 in c:\\users\\kshitij\\downloads\\major project\\.venv\\lib\\site-packages (from pandas) (2025.2)\n",
            "Requirement already satisfied: tzdata>=2022.7 in c:\\users\\kshitij\\downloads\\major project\\.venv\\lib\\site-packages (from pandas) (2025.2)\n",
            "Requirement already satisfied: six>=1.5 in c:\\users\\kshitij\\downloads\\major project\\.venv\\lib\\site-packages (from python-dateutil>=2.8.2->pandas) (1.17.0)\n",
            "Note: you may need to restart the kernel to use updated packages.\n",
            "Requirement already satisfied: pyyaml in c:\\users\\kshitij\\downloads\\major project\\.venv\\lib\\site-packages (6.0.3)\n",
            "Note: you may need to restart the kernel to use updated packages.\n",
            "Requirement already satisfied: seaborn in c:\\users\\kshitij\\downloads\\major project\\.venv\\lib\\site-packages (0.13.2)\n",
            "Requirement already satisfied: numpy!=1.24.0,>=1.20 in c:\\users\\kshitij\\downloads\\major project\\.venv\\lib\\site-packages (from seaborn) (2.3.4)\n",
            "Requirement already satisfied: pandas>=1.2 in c:\\users\\kshitij\\downloads\\major project\\.venv\\lib\\site-packages (from seaborn) (2.3.3)\n",
            "Requirement already satisfied: matplotlib!=3.6.1,>=3.4 in c:\\users\\kshitij\\downloads\\major project\\.venv\\lib\\site-packages (from seaborn) (3.10.7)\n",
            "Requirement already satisfied: contourpy>=1.0.1 in c:\\users\\kshitij\\downloads\\major project\\.venv\\lib\\site-packages (from matplotlib!=3.6.1,>=3.4->seaborn) (1.3.3)\n",
            "Requirement already satisfied: cycler>=0.10 in c:\\users\\kshitij\\downloads\\major project\\.venv\\lib\\site-packages (from matplotlib!=3.6.1,>=3.4->seaborn) (0.12.1)\n",
            "Requirement already satisfied: fonttools>=4.22.0 in c:\\users\\kshitij\\downloads\\major project\\.venv\\lib\\site-packages (from matplotlib!=3.6.1,>=3.4->seaborn) (4.60.1)\n",
            "Requirement already satisfied: kiwisolver>=1.3.1 in c:\\users\\kshitij\\downloads\\major project\\.venv\\lib\\site-packages (from matplotlib!=3.6.1,>=3.4->seaborn) (1.4.9)\n",
            "Requirement already satisfied: packaging>=20.0 in c:\\users\\kshitij\\downloads\\major project\\.venv\\lib\\site-packages (from matplotlib!=3.6.1,>=3.4->seaborn) (25.0)\n",
            "Requirement already satisfied: pillow>=8 in c:\\users\\kshitij\\downloads\\major project\\.venv\\lib\\site-packages (from matplotlib!=3.6.1,>=3.4->seaborn) (12.0.0)\n",
            "Requirement already satisfied: pyparsing>=3 in c:\\users\\kshitij\\downloads\\major project\\.venv\\lib\\site-packages (from matplotlib!=3.6.1,>=3.4->seaborn) (3.2.5)\n",
            "Requirement already satisfied: python-dateutil>=2.7 in c:\\users\\kshitij\\downloads\\major project\\.venv\\lib\\site-packages (from matplotlib!=3.6.1,>=3.4->seaborn) (2.9.0.post0)\n",
            "Requirement already satisfied: pytz>=2020.1 in c:\\users\\kshitij\\downloads\\major project\\.venv\\lib\\site-packages (from pandas>=1.2->seaborn) (2025.2)\n",
            "Requirement already satisfied: tzdata>=2022.7 in c:\\users\\kshitij\\downloads\\major project\\.venv\\lib\\site-packages (from pandas>=1.2->seaborn) (2025.2)\n",
            "Requirement already satisfied: six>=1.5 in c:\\users\\kshitij\\downloads\\major project\\.venv\\lib\\site-packages (from python-dateutil>=2.7->matplotlib!=3.6.1,>=3.4->seaborn) (1.17.0)\n",
            "Note: you may need to restart the kernel to use updated packages.\n",
            "Requirement already satisfied: tensorflow in c:\\users\\kshitij\\downloads\\major project\\.venv\\lib\\site-packages (2.20.0)\n",
            "Requirement already satisfied: absl-py>=1.0.0 in c:\\users\\kshitij\\downloads\\major project\\.venv\\lib\\site-packages (from tensorflow) (2.3.1)\n",
            "Requirement already satisfied: astunparse>=1.6.0 in c:\\users\\kshitij\\downloads\\major project\\.venv\\lib\\site-packages (from tensorflow) (1.6.3)\n",
            "Requirement already satisfied: flatbuffers>=24.3.25 in c:\\users\\kshitij\\downloads\\major project\\.venv\\lib\\site-packages (from tensorflow) (25.9.23)\n",
            "Requirement already satisfied: gast!=0.5.0,!=0.5.1,!=0.5.2,>=0.2.1 in c:\\users\\kshitij\\downloads\\major project\\.venv\\lib\\site-packages (from tensorflow) (0.6.0)\n",
            "Requirement already satisfied: google_pasta>=0.1.1 in c:\\users\\kshitij\\downloads\\major project\\.venv\\lib\\site-packages (from tensorflow) (0.2.0)\n",
            "Requirement already satisfied: libclang>=13.0.0 in c:\\users\\kshitij\\downloads\\major project\\.venv\\lib\\site-packages (from tensorflow) (18.1.1)\n",
            "Requirement already satisfied: opt_einsum>=2.3.2 in c:\\users\\kshitij\\downloads\\major project\\.venv\\lib\\site-packages (from tensorflow) (3.4.0)\n",
            "Requirement already satisfied: packaging in c:\\users\\kshitij\\downloads\\major project\\.venv\\lib\\site-packages (from tensorflow) (25.0)\n",
            "Requirement already satisfied: protobuf>=5.28.0 in c:\\users\\kshitij\\downloads\\major project\\.venv\\lib\\site-packages (from tensorflow) (6.33.0)\n",
            "Requirement already satisfied: requests<3,>=2.21.0 in c:\\users\\kshitij\\downloads\\major project\\.venv\\lib\\site-packages (from tensorflow) (2.32.5)\n",
            "Requirement already satisfied: setuptools in c:\\users\\kshitij\\downloads\\major project\\.venv\\lib\\site-packages (from tensorflow) (65.5.0)\n",
            "Requirement already satisfied: six>=1.12.0 in c:\\users\\kshitij\\downloads\\major project\\.venv\\lib\\site-packages (from tensorflow) (1.17.0)\n",
            "Requirement already satisfied: termcolor>=1.1.0 in c:\\users\\kshitij\\downloads\\major project\\.venv\\lib\\site-packages (from tensorflow) (3.2.0)\n",
            "Requirement already satisfied: typing_extensions>=3.6.6 in c:\\users\\kshitij\\downloads\\major project\\.venv\\lib\\site-packages (from tensorflow) (4.15.0)\n",
            "Requirement already satisfied: wrapt>=1.11.0 in c:\\users\\kshitij\\downloads\\major project\\.venv\\lib\\site-packages (from tensorflow) (2.0.0)\n",
            "Requirement already satisfied: grpcio<2.0,>=1.24.3 in c:\\users\\kshitij\\downloads\\major project\\.venv\\lib\\site-packages (from tensorflow) (1.76.0)\n",
            "Requirement already satisfied: tensorboard~=2.20.0 in c:\\users\\kshitij\\downloads\\major project\\.venv\\lib\\site-packages (from tensorflow) (2.20.0)\n",
            "Requirement already satisfied: keras>=3.10.0 in c:\\users\\kshitij\\downloads\\major project\\.venv\\lib\\site-packages (from tensorflow) (3.12.0)\n",
            "Requirement already satisfied: numpy>=1.26.0 in c:\\users\\kshitij\\downloads\\major project\\.venv\\lib\\site-packages (from tensorflow) (2.3.4)\n",
            "Requirement already satisfied: h5py>=3.11.0 in c:\\users\\kshitij\\downloads\\major project\\.venv\\lib\\site-packages (from tensorflow) (3.15.1)\n",
            "Requirement already satisfied: ml_dtypes<1.0.0,>=0.5.1 in c:\\users\\kshitij\\downloads\\major project\\.venv\\lib\\site-packages (from tensorflow) (0.5.3)\n",
            "Requirement already satisfied: charset_normalizer<4,>=2 in c:\\users\\kshitij\\downloads\\major project\\.venv\\lib\\site-packages (from requests<3,>=2.21.0->tensorflow) (3.4.4)\n",
            "Requirement already satisfied: idna<4,>=2.5 in c:\\users\\kshitij\\downloads\\major project\\.venv\\lib\\site-packages (from requests<3,>=2.21.0->tensorflow) (3.11)\n",
            "Requirement already satisfied: urllib3<3,>=1.21.1 in c:\\users\\kshitij\\downloads\\major project\\.venv\\lib\\site-packages (from requests<3,>=2.21.0->tensorflow) (2.5.0)\n",
            "Requirement already satisfied: certifi>=2017.4.17 in c:\\users\\kshitij\\downloads\\major project\\.venv\\lib\\site-packages (from requests<3,>=2.21.0->tensorflow) (2025.10.5)\n",
            "Requirement already satisfied: markdown>=2.6.8 in c:\\users\\kshitij\\downloads\\major project\\.venv\\lib\\site-packages (from tensorboard~=2.20.0->tensorflow) (3.9)\n",
            "Requirement already satisfied: pillow in c:\\users\\kshitij\\downloads\\major project\\.venv\\lib\\site-packages (from tensorboard~=2.20.0->tensorflow) (12.0.0)\n",
            "Requirement already satisfied: tensorboard-data-server<0.8.0,>=0.7.0 in c:\\users\\kshitij\\downloads\\major project\\.venv\\lib\\site-packages (from tensorboard~=2.20.0->tensorflow) (0.7.2)\n",
            "Requirement already satisfied: werkzeug>=1.0.1 in c:\\users\\kshitij\\downloads\\major project\\.venv\\lib\\site-packages (from tensorboard~=2.20.0->tensorflow) (3.1.3)\n",
            "Requirement already satisfied: wheel<1.0,>=0.23.0 in c:\\users\\kshitij\\downloads\\major project\\.venv\\lib\\site-packages (from astunparse>=1.6.0->tensorflow) (0.45.1)\n",
            "Requirement already satisfied: rich in c:\\users\\kshitij\\downloads\\major project\\.venv\\lib\\site-packages (from keras>=3.10.0->tensorflow) (14.2.0)\n",
            "Requirement already satisfied: namex in c:\\users\\kshitij\\downloads\\major project\\.venv\\lib\\site-packages (from keras>=3.10.0->tensorflow) (0.1.0)\n",
            "Requirement already satisfied: optree in c:\\users\\kshitij\\downloads\\major project\\.venv\\lib\\site-packages (from keras>=3.10.0->tensorflow) (0.17.0)\n",
            "Requirement already satisfied: MarkupSafe>=2.1.1 in c:\\users\\kshitij\\downloads\\major project\\.venv\\lib\\site-packages (from werkzeug>=1.0.1->tensorboard~=2.20.0->tensorflow) (3.0.3)\n",
            "Requirement already satisfied: markdown-it-py>=2.2.0 in c:\\users\\kshitij\\downloads\\major project\\.venv\\lib\\site-packages (from rich->keras>=3.10.0->tensorflow) (4.0.0)\n",
            "Requirement already satisfied: pygments<3.0.0,>=2.13.0 in c:\\users\\kshitij\\downloads\\major project\\.venv\\lib\\site-packages (from rich->keras>=3.10.0->tensorflow) (2.19.2)\n",
            "Requirement already satisfied: mdurl~=0.1 in c:\\users\\kshitij\\downloads\\major project\\.venv\\lib\\site-packages (from markdown-it-py>=2.2.0->rich->keras>=3.10.0->tensorflow) (0.1.2)\n",
            "Note: you may need to restart the kernel to use updated packages.\n",
            "Requirement already satisfied: matplotlib in c:\\users\\kshitij\\downloads\\major project\\.venv\\lib\\site-packages (3.10.7)\n",
            "Requirement already satisfied: contourpy>=1.0.1 in c:\\users\\kshitij\\downloads\\major project\\.venv\\lib\\site-packages (from matplotlib) (1.3.3)\n",
            "Requirement already satisfied: cycler>=0.10 in c:\\users\\kshitij\\downloads\\major project\\.venv\\lib\\site-packages (from matplotlib) (0.12.1)\n",
            "Requirement already satisfied: fonttools>=4.22.0 in c:\\users\\kshitij\\downloads\\major project\\.venv\\lib\\site-packages (from matplotlib) (4.60.1)\n",
            "Requirement already satisfied: kiwisolver>=1.3.1 in c:\\users\\kshitij\\downloads\\major project\\.venv\\lib\\site-packages (from matplotlib) (1.4.9)\n",
            "Requirement already satisfied: numpy>=1.23 in c:\\users\\kshitij\\downloads\\major project\\.venv\\lib\\site-packages (from matplotlib) (2.3.4)\n",
            "Requirement already satisfied: packaging>=20.0 in c:\\users\\kshitij\\downloads\\major project\\.venv\\lib\\site-packages (from matplotlib) (25.0)\n",
            "Requirement already satisfied: pillow>=8 in c:\\users\\kshitij\\downloads\\major project\\.venv\\lib\\site-packages (from matplotlib) (12.0.0)\n",
            "Requirement already satisfied: pyparsing>=3 in c:\\users\\kshitij\\downloads\\major project\\.venv\\lib\\site-packages (from matplotlib) (3.2.5)\n",
            "Requirement already satisfied: python-dateutil>=2.7 in c:\\users\\kshitij\\downloads\\major project\\.venv\\lib\\site-packages (from matplotlib) (2.9.0.post0)\n",
            "Requirement already satisfied: six>=1.5 in c:\\users\\kshitij\\downloads\\major project\\.venv\\lib\\site-packages (from python-dateutil>=2.7->matplotlib) (1.17.0)\n",
            "Note: you may need to restart the kernel to use updated packages.\n",
            "Collecting opencv-python\n",
            "  Using cached opencv_python-4.12.0.88-cp37-abi3-win_amd64.whl.metadata (19 kB)\n",
            "Collecting numpy<2.3.0,>=2 (from opencv-python)\n",
            "  Using cached numpy-2.2.6-cp311-cp311-win_amd64.whl.metadata (60 kB)\n",
            "Using cached opencv_python-4.12.0.88-cp37-abi3-win_amd64.whl (39.0 MB)\n",
            "Using cached numpy-2.2.6-cp311-cp311-win_amd64.whl (12.9 MB)\n",
            "Installing collected packages: numpy, opencv-python\n",
            "\n",
            "  Attempting uninstall: numpy\n",
            "\n",
            "    Found existing installation: numpy 2.3.4\n",
            "\n",
            "   ---------------------------------------- 0/2 [numpy]\n",
            "    Uninstalling numpy-2.3.4:\n",
            "   ---------------------------------------- 0/2 [numpy]\n",
            "   ---------------------------------------- 0/2 [numpy]\n",
            "      Successfully uninstalled numpy-2.3.4\n",
            "   ---------------------------------------- 0/2 [numpy]\n",
            "   ---------------------------------------- 0/2 [numpy]\n",
            "   ---------------------------------------- 0/2 [numpy]\n",
            "   ---------------------------------------- 0/2 [numpy]\n",
            "   ---------------------------------------- 0/2 [numpy]\n",
            "   ---------------------------------------- 0/2 [numpy]\n",
            "   ---------------------------------------- 0/2 [numpy]\n",
            "   ---------------------------------------- 0/2 [numpy]\n",
            "   ---------------------------------------- 0/2 [numpy]\n",
            "   ---------------------------------------- 0/2 [numpy]\n",
            "   ---------------------------------------- 0/2 [numpy]\n",
            "   ---------------------------------------- 0/2 [numpy]\n",
            "   ---------------------------------------- 0/2 [numpy]\n",
            "   ---------------------------------------- 0/2 [numpy]\n",
            "   ---------------------------------------- 0/2 [numpy]\n",
            "   ---------------------------------------- 0/2 [numpy]\n",
            "   ---------------------------------------- 0/2 [numpy]\n",
            "   ---------------------------------------- 0/2 [numpy]\n",
            "   ---------------------------------------- 0/2 [numpy]\n",
            "   ---------------------------------------- 0/2 [numpy]\n",
            "   ---------------------------------------- 0/2 [numpy]\n",
            "   ---------------------------------------- 0/2 [numpy]\n",
            "   ---------------------------------------- 0/2 [numpy]\n",
            "   ---------------------------------------- 0/2 [numpy]\n",
            "   ---------------------------------------- 0/2 [numpy]\n",
            "   ---------------------------------------- 0/2 [numpy]\n",
            "   ---------------------------------------- 0/2 [numpy]\n",
            "   ---------------------------------------- 0/2 [numpy]\n",
            "   ---------------------------------------- 0/2 [numpy]\n",
            "   ---------------------------------------- 0/2 [numpy]\n",
            "   ---------------------------------------- 0/2 [numpy]\n",
            "   ---------------------------------------- 0/2 [numpy]\n",
            "   ---------------------------------------- 0/2 [numpy]\n",
            "   ---------------------------------------- 0/2 [numpy]\n",
            "   ---------------------------------------- 0/2 [numpy]\n",
            "   ---------------------------------------- 0/2 [numpy]\n",
            "   ---------------------------------------- 0/2 [numpy]\n",
            "   ---------------------------------------- 0/2 [numpy]\n",
            "   ---------------------------------------- 0/2 [numpy]\n",
            "   ---------------------------------------- 0/2 [numpy]\n",
            "   ---------------------------------------- 0/2 [numpy]\n",
            "   ---------------------------------------- 0/2 [numpy]\n",
            "   ---------------------------------------- 0/2 [numpy]\n",
            "   ---------------------------------------- 0/2 [numpy]\n",
            "   ---------------------------------------- 0/2 [numpy]\n",
            "   ---------------------------------------- 0/2 [numpy]\n",
            "   ---------------------------------------- 0/2 [numpy]\n",
            "   ---------------------------------------- 0/2 [numpy]\n",
            "   ---------------------------------------- 0/2 [numpy]\n",
            "   ---------------------------------------- 0/2 [numpy]\n",
            "   ---------------------------------------- 0/2 [numpy]\n",
            "   ---------------------------------------- 0/2 [numpy]\n",
            "   ---------------------------------------- 0/2 [numpy]\n",
            "   ---------------------------------------- 0/2 [numpy]\n",
            "   ---------------------------------------- 0/2 [numpy]\n",
            "   ---------------------------------------- 0/2 [numpy]\n",
            "   ---------------------------------------- 0/2 [numpy]\n",
            "   ---------------------------------------- 0/2 [numpy]\n",
            "   ---------------------------------------- 0/2 [numpy]\n",
            "   ---------------------------------------- 0/2 [numpy]\n",
            "   ---------------------------------------- 0/2 [numpy]\n",
            "   ---------------------------------------- 0/2 [numpy]\n",
            "   ---------------------------------------- 0/2 [numpy]\n",
            "   ---------------------------------------- 0/2 [numpy]\n",
            "   ---------------------------------------- 0/2 [numpy]\n",
            "   ---------------------------------------- 0/2 [numpy]\n",
            "   ---------------------------------------- 0/2 [numpy]\n",
            "   ---------------------------------------- 0/2 [numpy]\n",
            "   ---------------------------------------- 0/2 [numpy]\n",
            "   ---------------------------------------- 0/2 [numpy]\n",
            "   ---------------------------------------- 0/2 [numpy]\n",
            "   ---------------------------------------- 0/2 [numpy]\n",
            "   ---------------------------------------- 0/2 [numpy]\n",
            "   ---------------------------------------- 0/2 [numpy]\n",
            "   ---------------------------------------- 0/2 [numpy]\n",
            "   ---------------------------------------- 0/2 [numpy]\n",
            "   ---------------------------------------- 0/2 [numpy]\n",
            "   ---------------------------------------- 0/2 [numpy]\n",
            "   ---------------------------------------- 0/2 [numpy]\n",
            "   ---------------------------------------- 0/2 [numpy]\n",
            "   ---------------------------------------- 0/2 [numpy]\n",
            "   ---------------------------------------- 0/2 [numpy]\n",
            "   ---------------------------------------- 0/2 [numpy]\n",
            "   ---------------------------------------- 0/2 [numpy]\n",
            "   ---------------------------------------- 0/2 [numpy]\n",
            "   -------------------- ------------------- 1/2 [opencv-python]\n",
            "   -------------------- ------------------- 1/2 [opencv-python]\n",
            "   -------------------- ------------------- 1/2 [opencv-python]\n",
            "   -------------------- ------------------- 1/2 [opencv-python]\n",
            "   ---------------------------------------- 2/2 [opencv-python]\n",
            "\n",
            "Successfully installed numpy-2.2.6 opencv-python-4.12.0.88\n",
            "Note: you may need to restart the kernel to use updated packages.\n"
          ]
        },
        {
          "name": "stderr",
          "output_type": "stream",
          "text": [
            "  WARNING: Failed to remove contents in a temporary directory 'C:\\Users\\Kshitij\\Downloads\\Major Project\\.venv\\Lib\\site-packages\\~umpy.libs'.\n",
            "  You can safely remove it manually.\n",
            "  WARNING: Failed to remove contents in a temporary directory 'C:\\Users\\Kshitij\\Downloads\\Major Project\\.venv\\Lib\\site-packages\\~umpy'.\n",
            "  You can safely remove it manually.\n"
          ]
        },
        {
          "name": "stdout",
          "output_type": "stream",
          "text": [
            "Note: you may need to restart the kernel to use updated packages.\n"
          ]
        },
        {
          "name": "stderr",
          "output_type": "stream",
          "text": [
            "ERROR: Invalid requirement: 'scikit-learn%pip': Expected end or semicolon (after name and no valid version specifier)\n",
            "    scikit-learn%pip\n",
            "                ^\n"
          ]
        }
      ],
      "source": [
        "%pip install tqdm\n",
        "%pip install torch\n",
        "%pip install pandas\n",
        "%pip install pyyaml\n",
        "%pip install seaborn\n",
        "%pip install tensorflow\n",
        "%pip install matplotlib\n",
        "%pip install opencv-python\n",
        "%pip install scikit-learn%pip install git+https://github.com/KindXiaoming/pykan.git\n"
      ]
    },
    {
      "cell_type": "code",
      "execution_count": null,
      "id": "20135dbf",
      "metadata": {
        "colab": {
          "base_uri": "https://localhost:8080/"
        },
        "id": "20135dbf",
        "outputId": "41c243df-1ded-411e-de97-8a17c6e42a78"
      },
      "outputs": [],
      "source": [
        "import os\n",
        "import numpy as np\n",
        "import pandas as pd\n",
        "import seaborn as sns\n",
        "import tensorflow as tf\n",
        "from tensorflow import keras\n",
        "from keras import backend as K\n",
        "from keras.layers import Dense\n",
        "import matplotlib.pyplot as plt\n",
        "from keras.layers import Flatten\n",
        "from keras.layers import Dropout\n",
        "from sklearn.utils import shuffle\n",
        "from tensorflow.keras import layers\n",
        "from keras.models import Sequential\n",
        "from tensorflow.keras.models import Model\n",
        "from tensorflow.keras import backend as K\n",
        "from tensorflow.keras.layers import Conv2D\n",
        "from sklearn.metrics import confusion_matrix\n",
        "from sklearn.preprocessing import MinMaxScaler\n",
        "from tensorflow.keras.layers import MaxPooling2D\n",
        "from tensorflow.keras.utils import to_categorical\n",
        "from tensorflow.keras import models, layers, Input\n",
        "from sklearn.model_selection import train_test_split\n",
        "from tensorflow.keras.applications import MobileNetV2\n",
        "from tensorflow.keras import optimizers as keras_optimizers\n",
        "from sklearn.metrics import classification_report, confusion_matrix\n",
        "from tensorflow.keras.callbacks import EarlyStopping, ReduceLROnPlateau\n",
        "from tensorflow.keras.layers import Input, GlobalAveragePooling2D, Dense, Dropout\n",
        "\n",
        "import warnings\n",
        "warnings.filterwarnings('ignore')\n",
        "\n",
        "sns.set()"
      ]
    },
    {
      "cell_type": "markdown",
      "id": "70978269",
      "metadata": {},
      "source": [
        "# Data Preprocessing"
      ]
    },
    {
      "cell_type": "code",
      "execution_count": 19,
      "id": "fab9448d",
      "metadata": {
        "id": "fab9448d"
      },
      "outputs": [],
      "source": [
        "dataset = pd.read_csv(\"./A_Z Handwritten Data.csv\").astype('float32')\n",
        "dataset.rename(columns={'0':'label'}, inplace=True)\n",
        "\n",
        "X = dataset.drop('label', axis=1)\n",
        "y = dataset['label']"
      ]
    },
    {
      "cell_type": "code",
      "execution_count": 20,
      "id": "b96eeb03",
      "metadata": {
        "colab": {
          "base_uri": "https://localhost:8080/",
          "height": 288
        },
        "id": "b96eeb03",
        "outputId": "b9a28afa-9094-42ae-c958-2e6aaa1155a6"
      },
      "outputs": [
        {
          "name": "stdout",
          "output_type": "stream",
          "text": [
            "X shape: (372450, 784)\n",
            "number of columns: 784\n",
            "784= 28*28\n"
          ]
        },
        {
          "data": {
            "text/html": [
              "<div>\n",
              "<style scoped>\n",
              "    .dataframe tbody tr th:only-of-type {\n",
              "        vertical-align: middle;\n",
              "    }\n",
              "\n",
              "    .dataframe tbody tr th {\n",
              "        vertical-align: top;\n",
              "    }\n",
              "\n",
              "    .dataframe thead th {\n",
              "        text-align: right;\n",
              "    }\n",
              "</style>\n",
              "<table border=\"1\" class=\"dataframe\">\n",
              "  <thead>\n",
              "    <tr style=\"text-align: right;\">\n",
              "      <th></th>\n",
              "      <th>0.1</th>\n",
              "      <th>0.2</th>\n",
              "      <th>0.3</th>\n",
              "      <th>0.4</th>\n",
              "      <th>0.5</th>\n",
              "      <th>0.6</th>\n",
              "      <th>0.7</th>\n",
              "      <th>0.8</th>\n",
              "      <th>0.9</th>\n",
              "      <th>0.10</th>\n",
              "      <th>...</th>\n",
              "      <th>0.639</th>\n",
              "      <th>0.640</th>\n",
              "      <th>0.641</th>\n",
              "      <th>0.642</th>\n",
              "      <th>0.643</th>\n",
              "      <th>0.644</th>\n",
              "      <th>0.645</th>\n",
              "      <th>0.646</th>\n",
              "      <th>0.647</th>\n",
              "      <th>0.648</th>\n",
              "    </tr>\n",
              "  </thead>\n",
              "  <tbody>\n",
              "    <tr>\n",
              "      <th>0</th>\n",
              "      <td>0.0</td>\n",
              "      <td>0.0</td>\n",
              "      <td>0.0</td>\n",
              "      <td>0.0</td>\n",
              "      <td>0.0</td>\n",
              "      <td>0.0</td>\n",
              "      <td>0.0</td>\n",
              "      <td>0.0</td>\n",
              "      <td>0.0</td>\n",
              "      <td>0.0</td>\n",
              "      <td>...</td>\n",
              "      <td>0.0</td>\n",
              "      <td>0.0</td>\n",
              "      <td>0.0</td>\n",
              "      <td>0.0</td>\n",
              "      <td>0.0</td>\n",
              "      <td>0.0</td>\n",
              "      <td>0.0</td>\n",
              "      <td>0.0</td>\n",
              "      <td>0.0</td>\n",
              "      <td>0.0</td>\n",
              "    </tr>\n",
              "    <tr>\n",
              "      <th>1</th>\n",
              "      <td>0.0</td>\n",
              "      <td>0.0</td>\n",
              "      <td>0.0</td>\n",
              "      <td>0.0</td>\n",
              "      <td>0.0</td>\n",
              "      <td>0.0</td>\n",
              "      <td>0.0</td>\n",
              "      <td>0.0</td>\n",
              "      <td>0.0</td>\n",
              "      <td>0.0</td>\n",
              "      <td>...</td>\n",
              "      <td>0.0</td>\n",
              "      <td>0.0</td>\n",
              "      <td>0.0</td>\n",
              "      <td>0.0</td>\n",
              "      <td>0.0</td>\n",
              "      <td>0.0</td>\n",
              "      <td>0.0</td>\n",
              "      <td>0.0</td>\n",
              "      <td>0.0</td>\n",
              "      <td>0.0</td>\n",
              "    </tr>\n",
              "    <tr>\n",
              "      <th>2</th>\n",
              "      <td>0.0</td>\n",
              "      <td>0.0</td>\n",
              "      <td>0.0</td>\n",
              "      <td>0.0</td>\n",
              "      <td>0.0</td>\n",
              "      <td>0.0</td>\n",
              "      <td>0.0</td>\n",
              "      <td>0.0</td>\n",
              "      <td>0.0</td>\n",
              "      <td>0.0</td>\n",
              "      <td>...</td>\n",
              "      <td>0.0</td>\n",
              "      <td>0.0</td>\n",
              "      <td>0.0</td>\n",
              "      <td>0.0</td>\n",
              "      <td>0.0</td>\n",
              "      <td>0.0</td>\n",
              "      <td>0.0</td>\n",
              "      <td>0.0</td>\n",
              "      <td>0.0</td>\n",
              "      <td>0.0</td>\n",
              "    </tr>\n",
              "    <tr>\n",
              "      <th>3</th>\n",
              "      <td>0.0</td>\n",
              "      <td>0.0</td>\n",
              "      <td>0.0</td>\n",
              "      <td>0.0</td>\n",
              "      <td>0.0</td>\n",
              "      <td>0.0</td>\n",
              "      <td>0.0</td>\n",
              "      <td>0.0</td>\n",
              "      <td>0.0</td>\n",
              "      <td>0.0</td>\n",
              "      <td>...</td>\n",
              "      <td>0.0</td>\n",
              "      <td>0.0</td>\n",
              "      <td>0.0</td>\n",
              "      <td>0.0</td>\n",
              "      <td>0.0</td>\n",
              "      <td>0.0</td>\n",
              "      <td>0.0</td>\n",
              "      <td>0.0</td>\n",
              "      <td>0.0</td>\n",
              "      <td>0.0</td>\n",
              "    </tr>\n",
              "    <tr>\n",
              "      <th>4</th>\n",
              "      <td>0.0</td>\n",
              "      <td>0.0</td>\n",
              "      <td>0.0</td>\n",
              "      <td>0.0</td>\n",
              "      <td>0.0</td>\n",
              "      <td>0.0</td>\n",
              "      <td>0.0</td>\n",
              "      <td>0.0</td>\n",
              "      <td>0.0</td>\n",
              "      <td>0.0</td>\n",
              "      <td>...</td>\n",
              "      <td>0.0</td>\n",
              "      <td>0.0</td>\n",
              "      <td>0.0</td>\n",
              "      <td>0.0</td>\n",
              "      <td>0.0</td>\n",
              "      <td>0.0</td>\n",
              "      <td>0.0</td>\n",
              "      <td>0.0</td>\n",
              "      <td>0.0</td>\n",
              "      <td>0.0</td>\n",
              "    </tr>\n",
              "  </tbody>\n",
              "</table>\n",
              "<p>5 rows × 784 columns</p>\n",
              "</div>"
            ],
            "text/plain": [
              "   0.1  0.2  0.3  0.4  0.5  0.6  0.7  0.8  0.9  0.10  ...  0.639  0.640  \\\n",
              "0  0.0  0.0  0.0  0.0  0.0  0.0  0.0  0.0  0.0   0.0  ...    0.0    0.0   \n",
              "1  0.0  0.0  0.0  0.0  0.0  0.0  0.0  0.0  0.0   0.0  ...    0.0    0.0   \n",
              "2  0.0  0.0  0.0  0.0  0.0  0.0  0.0  0.0  0.0   0.0  ...    0.0    0.0   \n",
              "3  0.0  0.0  0.0  0.0  0.0  0.0  0.0  0.0  0.0   0.0  ...    0.0    0.0   \n",
              "4  0.0  0.0  0.0  0.0  0.0  0.0  0.0  0.0  0.0   0.0  ...    0.0    0.0   \n",
              "\n",
              "   0.641  0.642  0.643  0.644  0.645  0.646  0.647  0.648  \n",
              "0    0.0    0.0    0.0    0.0    0.0    0.0    0.0    0.0  \n",
              "1    0.0    0.0    0.0    0.0    0.0    0.0    0.0    0.0  \n",
              "2    0.0    0.0    0.0    0.0    0.0    0.0    0.0    0.0  \n",
              "3    0.0    0.0    0.0    0.0    0.0    0.0    0.0    0.0  \n",
              "4    0.0    0.0    0.0    0.0    0.0    0.0    0.0    0.0  \n",
              "\n",
              "[5 rows x 784 columns]"
            ]
          },
          "execution_count": 20,
          "metadata": {},
          "output_type": "execute_result"
        }
      ],
      "source": [
        "print(\"X shape:\",X.shape)\n",
        "print(\"number of columns:\",len(X.iloc[1]))\n",
        "print(\"784= 28*28\")\n",
        "\n",
        "X.head()"
      ]
    },
    {
      "cell_type": "code",
      "execution_count": 21,
      "id": "a3f45e1c",
      "metadata": {
        "colab": {
          "base_uri": "https://localhost:8080/",
          "height": 838
        },
        "id": "a3f45e1c",
        "outputId": "86d2a884-ab7a-407d-e8ac-ab01ea8150b6"
      },
      "outputs": [
        {
          "data": {
            "image/png": "[encoded data removed]",
            "text/plain": [
              "<Figure size 1200x1000 with 16 Axes>"
            ]
          },
          "metadata": {},
          "output_type": "display_data"
        }
      ],
      "source": [
        "X_shuffle = shuffle(X)\n",
        "\n",
        "plt.figure(figsize = (12,10))\n",
        "row, columns = 4, 4\n",
        "for i in range(16):\n",
        "    plt.subplot(columns, row, i+1)\n",
        "    plt.imshow(X_shuffle.iloc[i].values.reshape(28,28),\n",
        "           interpolation='nearest',\n",
        "           cmap='Greys')\n",
        "\n",
        "plt.show()"
      ]
    },
    {
      "cell_type": "code",
      "execution_count": 22,
      "id": "faa545a3",
      "metadata": {
        "colab": {
          "base_uri": "https://localhost:8080/",
          "height": 887
        },
        "id": "faa545a3",
        "outputId": "fc708293-3422-45a3-8bb4-e160f3da7697"
      },
      "outputs": [
        {
          "data": {
            "image/png": "[encoded data removed]",
            "text/plain": [
              "<Figure size 1000x1000 with 1 Axes>"
            ]
          },
          "metadata": {},
          "output_type": "display_data"
        },
        {
          "name": "stdout",
          "output_type": "stream",
          "text": [
            "We have very low observations in letters I and F.\n",
            "Number of I: 1120\n",
            "Number of F: 1163\n"
          ]
        }
      ],
      "source": [
        "alphabets_mapper = {0:'A',1:'B',2:'C',3:'D',4:'E',5:'F',6:'G',7:'H',8:'I',9:'J',10:'K',11:'L',12:'M',13:'N',14:'O',15:'P',16:'Q',17:'R',18:'S',19:'T',20:'U',21:'V',22:'W',23:'X',24:'Y',25:'Z'}\n",
        "dataset_alphabets = dataset.copy()\n",
        "dataset_alphabets['label'] = dataset_alphabets['label'].map(alphabets_mapper)\n",
        "\n",
        "label_size = dataset_alphabets.groupby('label').size()\n",
        "label_size.plot.barh(figsize=(10,10))\n",
        "plt.show()\n",
        "\n",
        "print(\"We have very low observations in letters I and F.\")\n",
        "print(\"Number of I:\", label_size['I'])\n",
        "print(\"Number of F:\", label_size['F'])"
      ]
    },
    {
      "cell_type": "code",
      "execution_count": 23,
      "id": "zvdPB_-HjCYA",
      "metadata": {
        "id": "zvdPB_-HjCYA"
      },
      "outputs": [],
      "source": [
        "X_train, X_test, y_train, y_test = train_test_split(X, y, test_size=0.2, random_state=42, stratify=y)\n",
        "\n",
        "scaler = MinMaxScaler()\n",
        "X_train = scaler.fit_transform(X_train)\n",
        "X_test = scaler.transform(X_test)"
      ]
    },
    {
      "cell_type": "code",
      "execution_count": 24,
      "id": "kD-qb2HMjKue",
      "metadata": {
        "colab": {
          "base_uri": "https://localhost:8080/",
          "height": 838
        },
        "id": "kD-qb2HMjKue",
        "outputId": "a84510bb-cf6c-417f-f4ee-8265ecf4cf42"
      },
      "outputs": [
        {
          "data": {
            "image/png": "[encoded data removed]",
            "text/plain": [
              "<Figure size 1200x1000 with 16 Axes>"
            ]
          },
          "metadata": {},
          "output_type": "display_data"
        }
      ],
      "source": [
        "X_shuffle = shuffle(X_train)\n",
        "\n",
        "plt.figure(figsize = (12,10))\n",
        "row, columns = 4, 4\n",
        "for i in range(16):\n",
        "    plt.subplot(columns, row, i+1)\n",
        "    plt.imshow(X_shuffle[i].reshape(28,28),interpolation='nearest', cmap='Greys')\n",
        "plt.show()"
      ]
    },
    {
      "cell_type": "code",
      "execution_count": 25,
      "id": "jDmLNpREjVZO",
      "metadata": {
        "id": "jDmLNpREjVZO"
      },
      "outputs": [],
      "source": [
        "X_train = X_train.reshape(X_train.shape[0], 28, 28, 1).astype('float32')\n",
        "X_test = X_test.reshape(X_test.shape[0], 28, 28, 1).astype('float32')\n",
        "\n",
        "y_train = to_categorical(y_train)\n",
        "y_test = to_categorical(y_test)\n",
        "\n",
        "datagen = keras.preprocessing.image.ImageDataGenerator(\n",
        "    rotation_range=15,\n",
        "    width_shift_range=0.1,\n",
        "    height_shift_range=0.1,\n",
        "    horizontal_flip=True,\n",
        "    zoom_range=0.1\n",
        ")\n",
        "\n",
        "datagen.fit(X_train)"
      ]
    },
    {
      "cell_type": "markdown",
      "id": "945e1be8",
      "metadata": {},
      "source": [
        "# CNN Model"
      ]
    },
    {
      "cell_type": "code",
      "execution_count": null,
      "id": "EAb9AuK2kwrr",
      "metadata": {
        "id": "EAb9AuK2kwrr"
      },
      "outputs": [],
      "source": [
        "cnn_model = models.Sequential([\n",
        "    layers.Input(shape=(28,28,1)),\n",
        "    layers.Conv2D(32, (3,3), activation='relu'),\n",
        "    layers.MaxPooling2D((2,2)),\n",
        "    layers.Flatten(),\n",
        "    layers.Dense(128, activation='relu'),\n",
        "    layers.Dense(26, activation='softmax')\n",
        "])\n",
        "\n",
        "cls_deneme = Sequential()\n",
        "cls_deneme.add(Conv2D(64, (3, 3), input_shape=(28, 28, 1), activation='relu'))\n",
        "cls_deneme.add(MaxPooling2D(pool_size=(2, 2)))\n",
        "cls_deneme.add(Dropout(0.5))\n",
        "\n",
        "cls_deneme.add(Conv2D(128, (3, 3), activation='relu'))\n",
        "cls_deneme.add(MaxPooling2D(pool_size=(2, 2)))\n",
        "cls_deneme.add(Dropout(0.3))\n",
        "\n",
        "cls_deneme.add(Flatten())\n",
        "cls_deneme.add(Dense(256, activation='relu'))\n",
        "cls_deneme.add(Dense(len(y.unique()), activation='softmax'));\n"
      ]
    },
    {
      "cell_type": "code",
      "execution_count": null,
      "id": "8YS6rE0tk0uy",
      "metadata": {
        "colab": {
          "base_uri": "https://localhost:8080/"
        },
        "id": "8YS6rE0tk0uy",
        "outputId": "715358fb-178a-4f8e-d86a-f8360896a972"
      },
      "outputs": [],
      "source": [
        "cnn_model.compile(optimizer='adam', loss='categorical_crossentropy', metrics=['accuracy'])\n",
        "\n",
        "cls_deneme.compile(loss='categorical_crossentropy', optimizer='rmsprop', metrics=['accuracy'])\n",
        "scores = cnn_model.evaluate(X_test,y_test, verbose=0)\n",
        "\n",
        "early_stopping = EarlyStopping(monitor='val_loss', patience=10, restore_best_weights=True)\n",
        "reduce_lr = ReduceLROnPlateau(monitor='val_loss', factor=0.2, patience=5, min_lr=1e-4);\n",
        "\n",
        "print(\"CNN Score:\",scores[1]);"
      ]
    },
    {
      "cell_type": "code",
      "execution_count": null,
      "id": "sCYa3312k6fN",
      "metadata": {
        "colab": {
          "base_uri": "https://localhost:8080/"
        },
        "id": "sCYa3312k6fN",
        "outputId": "8611b937-7230-4077-c1ba-77b3ab20c04e"
      },
      "outputs": [],
      "source": [
        "history_cnn = cnn_model.fit(datagen.flow(X_train, y_train, batch_size=64),\n",
        "                            validation_data=(X_test, y_test),\n",
        "                            epochs=5,\n",
        "                            callbacks=[early_stopping, reduce_lr],\n",
        "                            verbose=2)\n",
        "\n",
        "print(\"Model Trial 2 training Begins\")\n",
        "history_deneme = cls_deneme.fit(\n",
        "    datagen.flow(X_train, y_train, batch_size=200),\n",
        "    validation_data=(X_test, y_test),\n",
        "    epochs=5,\n",
        "    callbacks=[early_stopping, reduce_lr],\n",
        "    verbose=2)\n",
        "\n",
        "\n",
        "\n",
        "test_loss_cnn, test_acc_cnn = cnn_model.evaluate(X_test, y_test, verbose=0)\n",
        "print(f\"Basic CNN Test Accuracy: {test_acc_cnn:.3f}\")"
      ]
    },
    {
      "cell_type": "code",
      "execution_count": null,
      "id": "D2wvDjH0nM7x",
      "metadata": {
        "colab": {
          "base_uri": "https://localhost:8080/",
          "height": 943
        },
        "id": "D2wvDjH0nM7x",
        "outputId": "b2414cb4-c143-4206-b007-d44db556a3a3"
      },
      "outputs": [],
      "source": [
        "plt.plot(history_cnn.history['accuracy'], label= \"Training Accuracy \")\n",
        "plt.plot(history_cnn.history['val_accuracy'], label= \"Verification Accuracy\")\n",
        "plt.title('Model Validation')\n",
        "plt.ylabel('Verification')\n",
        "plt.xlabel('Epoch')\n",
        "plt.legend()\n",
        "plt.show()\n",
        "\n",
        "plt.plot(history_cnn.history['loss'], label='Loss of learning rate')\n",
        "plt.plot(history_cnn.history['val_loss'], label='Verification Loss')\n",
        "plt.title('Model Loss')\n",
        "plt.ylabel('Loss')\n",
        "plt.xlabel('Epoch')\n",
        "plt.legend(['Train', 'Test'], loc='upper left')\n",
        "plt.show()"
      ]
    },
    {
      "cell_type": "code",
      "execution_count": null,
      "id": "y4SwRb1hrOyo",
      "metadata": {
        "colab": {
          "base_uri": "https://localhost:8080/",
          "height": 1000
        },
        "id": "y4SwRb1hrOyo",
        "outputId": "2e5a9d48-5ab0-4f9b-bca2-7f7fd8f16653"
      },
      "outputs": [],
      "source": [
        "test_loss, test_accuracy= cnn_model.evaluate(X_test, y_test, verbose=0 )\n",
        "print(f\"Test loss: {test_loss:.3f}\\nTest accuracy: {test_accuracy:.3f}\")\n",
        "\n",
        "test_loss_deneme, test_accuracy_deneme = cls_deneme.evaluate(X_test, y_test, verbose=0)\n",
        "print(f\"\\nModel 2 Test Accuracy (cls_deneme): {test_accuracy_deneme:.3f}\")\n",
        "\n",
        "# Let's make some guesses\n",
        "y_pred = cnn_model.predict(X_test)\n",
        "y_pred_classes = np.argmax(y_pred, axis=1)\n",
        "y_true = np.argmax(y_test, axis=1)\n",
        "\n",
        "target_names = ['A','B','C','D','E','F','G','H','I','J',\n",
        "                'K','L','M','N','O','P','Q','R','S','T',\n",
        "                'U','V','W','X','Y','Z']\n",
        "\n",
        "# Classification report\n",
        "print(\"\\Classification Report:\")\n",
        "print(classification_report(y_true, y_pred_classes, target_names= target_names ))\n",
        "\n",
        "\n",
        "# Complexity matrix\n",
        "cm=confusion_matrix(y_test.argmax(axis=1),cnn_model.predict(X_test).argmax(axis=1))\n",
        "df_cm = pd.DataFrame(cm, range(26),\n",
        "                  range(26))\n",
        "plt.figure(figsize = (20,15))\n",
        "sns.set(font_scale=1.4)#for label size\n",
        "sns.heatmap(df_cm, annot=True,annot_kws={\"size\": 16})\n",
        "plt.title('Complexity Matrix')\n",
        "plt.ylabel('Actual Label')\n",
        "plt.xlabel('Predicted Label')\n",
        "plt.show()\n",
        "\n",
        "# Let's visualize some examples of correct and incorrect predictions.\n",
        "correct_indices = np.where(y_pred_classes == y_true)[0]\n",
        "incorrect_indices = np.where(y_pred_classes != y_true)[0]\n",
        "\n",
        "plt.figure(figsize=(12, 8))\n",
        "\n",
        "# Examples of correct predictions\n",
        "for i, correct in enumerate(correct_indices[:4]):\n",
        "    plt.subplot(2, 4, i+1)\n",
        "    plt.imshow(X_test[correct])\n",
        "    plt.title(f\"Prediction: {target_names[y_pred_classes[correct]]}\\nActual: {target_names[y_true[correct]]}\")\n",
        "    plt.axis('off')\n",
        "\n",
        "for i, incorrect in enumerate(incorrect_indices[:4]):\n",
        "    plt.subplot(2, 4, i+5)\n",
        "    plt.imshow(X_test[incorrect])\n",
        "    plt.title(f\"Prediction: {target_names[y_pred_classes[incorrect]]}\\nActual: {target_names[y_true[incorrect]]}\")\n",
        "    plt.axis('off')\n",
        "\n",
        "plt.tight_layout()\n",
        "plt.show()"
      ]
    },
    {
      "cell_type": "code",
      "execution_count": null,
      "id": "Aq7Zm38MO6Db",
      "metadata": {
        "id": "Aq7Zm38MO6Db"
      },
      "outputs": [],
      "source": [
        "import cv2\n",
        "import numpy as np\n",
        "\n",
        "def preprocess_image_to_mnist(image_path):\n",
        "    # 1. Read the image in grayscale\n",
        "    img = cv2.imread(image_path, cv2.IMREAD_GRAYSCALE)\n",
        "\n",
        "    # 2. Invert the colors (from black-on-white to white-on-black)\n",
        "    #    This assumes your original image is like MNIST (white digit, black bg)\n",
        "    #    If your image is black digit on white paper, uncomment the next line\n",
        "    # img = cv2.bitwise_not(img)\n",
        "\n",
        "    # 3. Resize the image to 28x28\n",
        "    #    We use INTER_AREA for shrinking, which is generally good.\n",
        "    img = cv2.resize(img, (28, 28), interpolation=cv2.INTER_AREA)\n",
        "\n",
        "    # 4. Normalize pixel values to the [0, 1] range\n",
        "    img = img.astype('float32') / 255.0\n",
        "\n",
        "    # 5. Reshape for a model (e.g., a CNN)\n",
        "    #    Shape becomes (1, 28, 28, 1)\n",
        "    img = np.reshape(img, (1, 28, 28, 1))\n",
        "\n",
        "    return img\n",
        "\n",
        "# --- How to use it ---\n",
        "# my_image = preprocess_image_to_mnist('path/to/my_digit_image.png')\n",
        "# prediction = model.predict(my_image)"
      ]
    },
    {
      "cell_type": "code",
      "execution_count": null,
      "id": "KSYTrFoZO8B6",
      "metadata": {
        "colab": {
          "base_uri": "https://localhost:8080/",
          "height": 315
        },
        "id": "KSYTrFoZO8B6",
        "outputId": "3f7922ab-fb17-4177-917e-31f7cf5e7e11"
      },
      "outputs": [],
      "source": [
        "img = preprocess_image_to_mnist(\"/content/o.jpg\")\n",
        "my_pred = cnn_model.predict(img)\n",
        "my_pred_classes = np.argmax(my_pred, axis=1)\n",
        "print(f\"Predicted class: {alphabets_mapper[my_pred_classes[0]]}, {my_pred_classes}\")"
      ]
    },
    {
      "cell_type": "markdown",
      "id": "Dcf2lmmS2K5G",
      "metadata": {
        "id": "Dcf2lmmS2K5G"
      },
      "source": [
        "# Kolmogorov Arnold Netwoks"
      ]
    },
    {
      "cell_type": "markdown",
      "id": "58fd950d",
      "metadata": {},
      "source": [
        "## KANs Test"
      ]
    },
    {
      "cell_type": "code",
      "execution_count": 13,
      "id": "166d54bb",
      "metadata": {},
      "outputs": [
        {
          "name": "stdout",
          "output_type": "stream",
          "text": [
            "['Abs', 'AccumBounds', 'Add', 'Adjoint', 'AlgebraicField', 'AlgebraicNumber', 'And', 'AppliedPredicate', 'Array', 'AssumptionsContext', 'Atom', 'AtomicExpr', 'BasePolynomialError', 'Basic', 'BlockDiagMatrix', 'BlockMatrix', 'CC', 'CRootOf', 'Catalan', 'Chi', 'Ci', 'Circle', 'CoercionFailed', 'Complement', 'ComplexField', 'ComplexRegion', 'ComplexRootOf', 'Complexes', 'ComputationFailed', 'ConditionSet', 'Contains', 'CosineTransform', 'Curve', 'DeferredVector', 'DenseNDimArray', 'Derivative', 'Determinant', 'DiagMatrix', 'DiagonalMatrix', 'DiagonalOf', 'Dict', 'DiracDelta', 'DisjointUnion', 'Domain', 'DomainError', 'DotProduct', 'Dummy', 'E', 'E1', 'EPath', 'EX', 'EXRAW', 'Ei', 'Eijk', 'Ellipse', 'EmptySequence', 'EmptySet', 'Eq', 'Equality', 'Equivalent', 'EulerGamma', 'EvaluationFailed', 'ExactQuotientFailed', 'Expr', 'ExpressionDomain', 'ExtraneousFactors', 'FF', 'FF_gmpy', 'FF_python', 'FU', 'FallingFactorial', 'FiniteField', 'FiniteSet', 'FlagError', 'Float', 'FourierTransform', 'FractionField', 'Function', 'FunctionClass', 'FunctionMatrix', 'GF', 'GMPYFiniteField', 'GMPYIntegerRing', 'GMPYRationalField', 'Ge', 'GeneratorsError', 'GeneratorsNeeded', 'GeometryError', 'GoldenRatio', 'GramSchmidt', 'GreaterThan', 'GroebnerBasis', 'Gt', 'HadamardPower', 'HadamardProduct', 'HankelTransform', 'Heaviside', 'HeuristicGCDFailed', 'HomomorphismFailed', 'I', 'ITE', 'Id', 'Identity', 'Idx', 'ImageSet', 'ImmutableDenseMatrix', 'ImmutableDenseNDimArray', 'ImmutableMatrix', 'ImmutableSparseMatrix', 'ImmutableSparseNDimArray', 'Implies', 'Indexed', 'IndexedBase', 'Integer', 'IntegerRing', 'Integers', 'Integral', 'Intersection', 'Interval', 'Inverse', 'InverseCosineTransform', 'InverseFourierTransform', 'InverseHankelTransform', 'InverseLaplaceTransform', 'InverseMellinTransform', 'InverseSineTransform', 'IsomorphismFailed', 'KAN', 'KANLayer', 'KroneckerDelta', 'KroneckerProduct', 'LBFGS', 'LC', 'LM', 'LT', 'Lambda', 'LambertW', 'LaplaceTransform', 'Le', 'LessThan', 'LeviCivita', 'Li', 'Limit', 'Line', 'Line2D', 'Line3D', 'LinearRegression', 'Lt', 'MatAdd', 'MatMul', 'MatPow', 'Matrix', 'MatrixBase', 'MatrixExpr', 'MatrixPermute', 'MatrixSlice', 'MatrixSymbol', 'Max', 'MellinTransform', 'Min', 'Mod', 'Monomial', 'Mul', 'MultKAN', 'MultivariatePolynomialError', 'MutableDenseMatrix', 'MutableDenseNDimArray', 'MutableMatrix', 'MutableSparseMatrix', 'MutableSparseNDimArray', 'N', 'NDimArray', 'Nand', 'Naturals', 'Naturals0', 'Ne', 'NonSquareMatrixError', 'Nor', 'Not', 'NotAlgebraic', 'NotInvertible', 'NotReversible', 'Number', 'NumberSymbol', 'O', 'OmegaPower', 'OneMatrix', 'OperationNotSupported', 'OptionError', 'Options', 'Or', 'Order', 'Ordinal', 'POSform', 'Parabola', 'Permanent', 'PermutationMatrix', 'Piecewise', 'Plane', 'Point', 'Point2D', 'Point3D', 'PoleError', 'PolificationFailed', 'Poly', 'Polygon', 'PolynomialDivisionFailed', 'PolynomialError', 'PolynomialRing', 'Pow', 'PowerSet', 'PrecisionExhausted', 'Predicate', 'Product', 'ProductSet', 'PurePoly', 'PythonFiniteField', 'PythonIntegerRing', 'PythonRational', 'Q', 'QQ', 'QQ_I', 'QQ_gmpy', 'QQ_python', 'Quaternion', 'RR', 'Range', 'Rational', 'RationalField', 'Rationals', 'Ray', 'Ray2D', 'Ray3D', 'RealField', 'RealNumber', 'Reals', 'RefinementFailed', 'RegularPolygon', 'Rel', 'Rem', 'RisingFactorial', 'RootOf', 'RootSum', 'S', 'SOPform', 'SYMBOLIC_LIB', 'Segment', 'Segment2D', 'Segment3D', 'SeqAdd', 'SeqFormula', 'SeqMul', 'SeqPer', 'Set', 'ShapeError', 'Shi', 'Si', 'Sieve', 'SineTransform', 'SingularityFunction', 'SparseMatrix', 'SparseNDimArray', 'StrPrinter', 'StrictGreaterThan', 'StrictLessThan', 'Subs', 'Sum', 'Symbol', 'Symbolic_KANLayer', 'SymmetricDifference', 'SympifyError', 'TableForm', 'Trace', 'Transpose', 'Triangle', 'TribonacciConstant', 'Tuple', 'Unequality', 'UnevaluatedExpr', 'UnificationFailed', 'Union', 'UnivariatePolynomialError', 'UniversalSet', 'Wild', 'WildFunction', 'Xor', 'Ynm', 'Ynm_c', 'ZZ', 'ZZ_I', 'ZZ_gmpy', 'ZZ_python', 'ZeroMatrix', 'Znm', '__builtins__', '__cached__', '__doc__', '__file__', '__loader__', '__name__', '__package__', '__path__', '__spec__', 'abundance', 'acos', 'acosh', 'acot', 'acoth', 'acsc', 'acsch', 'add_symbolic', 'adjoint', 'airyai', 'airyaiprime', 'airybi', 'airybiprime', 'algebras', 'all_roots', 'andre', 'apart', 'apart_list', 'appellf1', 'apply_finite_diff', 'approximants', 'are_similar', 'arg', 'arity', 'asec', 'asech', 'asin', 'asinh', 'ask', 'assemble_partfrac_list', 'assoc_laguerre', 'assoc_legendre', 'assuming', 'assumptions', 'atan', 'atan2', 'atanh', 'augment_input', 'banded', 'batch_hessian', 'batch_jacobian', 'bell', 'bernoulli', 'besseli', 'besselj', 'besselk', 'besselsimp', 'bessely', 'beta', 'betainc', 'betainc_regularized', 'binomial', 'binomial_coefficients', 'binomial_coefficients_list', 'block_collapse', 'blockcut', 'bool_map', 'bottom_up', 'bspline_basis', 'bspline_basis_set', 'cacheit', 'calculus', 'cancel', 'capture', 'carmichael', 'cartes', 'casoratian', 'catalan', 'cbrt', 'ccode', 'ceiling', 'centroid', 'chebyshevt', 'chebyshevt_poly', 'chebyshevt_root', 'chebyshevu', 'chebyshevu_poly', 'chebyshevu_root', 'check_assumptions', 'checkodesol', 'checkpdesol', 'checksol', 'classify_ode', 'classify_pde', 'closest_points', 'cofactors', 'collect', 'collect_const', 'combsimp', 'comp', 'compose', 'composite', 'compositepi', 'concrete', 'conjugate', 'construct_domain', 'content', 'continued_fraction', 'continued_fraction_convergents', 'continued_fraction_iterator', 'continued_fraction_periodic', 'continued_fraction_reduce', 'convex_hull', 'convolution', 'copy', 'cos', 'cosh', 'cosine_transform', 'cot', 'coth', 'count_ops', 'count_roots', 'covering_product', 'create_dataset', 'create_dataset_from_data', 'csc', 'csch', 'cse', 'curve2coef', 'cxxcode', 'cycle_length', 'cyclotomic_poly', 'decompogen', 'decompose', 'default_sort_key', 'deg', 'degree', 'degree_list', 'denom', 'derive_by_array', 'det', 'det_quick', 'diag', 'diagonalize_vector', 'dict_merge', 'diff', 'difference_delta', 'differentiate_finite', 'digamma', 'diophantine', 'dirichlet_eta', 'discrete', 'discrete_log', 'discriminant', 'div', 'divisor_count', 'divisor_sigma', 'divisors', 'doctest', 'dotprint', 'dsolve', 'egyptian_fraction', 'elliptic_e', 'elliptic_f', 'elliptic_k', 'elliptic_pi', 'epath', 'erf', 'erf2', 'erf2inv', 'erfc', 'erfcinv', 'erfi', 'erfinv', 'euler', 'euler_equations', 'evalf', 'evaluate', 'ex_round', 'exp', 'exp_polar', 'expand', 'expand_complex', 'expand_func', 'expand_log', 'expand_mul', 'expand_multinomial', 'expand_power_base', 'expand_power_exp', 'expand_trig', 'expint', 'exptrigsimp', 'exquo', 'external', 'eye', 'f_arccos', 'f_arcsin', 'f_arctanh', 'f_exp', 'f_inv', 'f_inv2', 'f_inv3', 'f_inv4', 'f_inv5', 'f_invsqrt', 'f_log', 'f_power1d5', 'f_sqrt', 'f_tan', 'factor', 'factor_cache', 'factor_list', 'factor_nc', 'factor_system', 'factor_terms', 'factorial', 'factorial2', 'factorint', 'factorrat', 'failing_assumptions', 'false', 'farthest_points', 'fcode', 'ff', 'fft', 'fibonacci', 'field', 'field_isomorphism', 'filldedent', 'finite_diff_weights', 'fit_params', 'flatten', 'floor', 'fourier_series', 'fourier_transform', 'fps', 'frac', 'fraction', 'fresnelc', 'fresnels', 'fu', 'functions', 'fwht', 'galois_group', 'gamma', 'gammasimp', 'gcd', 'gcd_list', 'gcd_terms', 'gcdex', 'gegenbauer', 'genocchi', 'geometry', 'get_contraction_structure', 'get_derivative', 'get_indices', 'gff', 'gff_list', 'glob', 'glsl_code', 'grevlex', 'grlex', 'groebner', 'ground_roots', 'group', 'gruntz', 'hadamard_product', 'half_gcdex', 'hankel1', 'hankel2', 'hankel_transform', 'harmonic', 'has_dups', 'has_variety', 'hermite', 'hermite_poly', 'hermite_prob', 'hermite_prob_poly', 'hessian', 'hn1', 'hn2', 'homogeneous_order', 'horner', 'hyper', 'hyperexpand', 'hypersimilar', 'hypersimp', 'hypothesis', 'idiff', 'ifft', 'ifwht', 'igcd', 'igrevlex', 'igrlex', 'ilcm', 'ilex', 'im', 'imageset', 'init_printing', 'init_session', 'integer_log', 'integer_nthroot', 'integrate', 'interactive', 'interactive_traversal', 'interpolate', 'interpolating_poly', 'interpolating_spline', 'intersecting_product', 'intersection', 'intervals', 'intt', 'inv_quick', 'inverse_cosine_transform', 'inverse_fourier_transform', 'inverse_hankel_transform', 'inverse_laplace_transform', 'inverse_mellin_transform', 'inverse_mobius_transform', 'inverse_sine_transform', 'invert', 'is_abundant', 'is_amicable', 'is_carmichael', 'is_convex', 'is_decreasing', 'is_deficient', 'is_increasing', 'is_mersenne_prime', 'is_monotonic', 'is_nthpow_residue', 'is_perfect', 'is_primitive_root', 'is_quad_residue', 'is_strictly_decreasing', 'is_strictly_increasing', 'is_zero_dimensional', 'isolate', 'isprime', 'itermonomials', 'jacobi', 'jacobi_normalized', 'jacobi_poly', 'jacobi_symbol', 'jn', 'jn_zeros', 'jordan_cell', 'jscode', 'julia_code', 'kronecker_product', 'kronecker_symbol', 'kroneckersimp', 'laguerre', 'laguerre_poly', 'lambdify', 'laplace_correspondence', 'laplace_initial_conds', 'laplace_transform', 'latex', 'lcm', 'lcm_list', 'legendre', 'legendre_poly', 'legendre_symbol', 'lerchphi', 'lex', 'li', 'limit', 'limit_seq', 'line_integrate', 'linear_eq_to_matrix', 'linsolve', 'list2numpy', 'ln', 'log', 'logcombine', 'loggamma', 'lowergamma', 'lucas', 'maple_code', 'marcumq', 'mathematica_code', 'mathieuc', 'mathieucprime', 'mathieus', 'mathieusprime', 'mathml', 'matrix2numpy', 'matrix_multiply_elementwise', 'matrix_symbols', 'maximum', 'meijerg', 'mellin_transform', 'memoize_property', 'mersenne_prime_exponent', 'minimal_polynomial', 'minimum', 'minpoly', 'mobius', 'mobius_transform', 'mod_inverse', 'model2param', 'monic', 'motzkin', 'multigamma', 'multiline_latex', 'multinomial_coefficients', 'multipledispatch', 'multiplicity', 'n_order', 'nan', 'nextprime', 'nfloat', 'nn', 'nonlinsolve', 'not_empty_in', 'np', 'npartitions', 'nroots', 'nsimplify', 'nsolve', 'nth_power_roots_poly', 'ntheory', 'nthroot_mod', 'ntt', 'num_digits', 'numbered_symbols', 'numer', 'octave_code', 'ode_order', 'ones', 'oo', 'ord0', 'ordered', 'os', 'pager_print', 'parallel_poly_from_expr', 'parse_expr', 'parsing', 'partition', 'pd', 'pde_separate', 'pde_separate_add', 'pde_separate_mul', 'pdiv', 'pdsolve', 'per', 'perfect_power', 'periodic_argument', 'periodicity', 'permutedims', 'pexquo', 'pi', 'piecewise_exclusive', 'piecewise_fold', 'plot', 'plot_backends', 'plot_implicit', 'plot_parametric', 'plot_tree', 'plotting', 'plt', 'polar_lift', 'polarify', 'pollard_pm1', 'pollard_rho', 'poly', 'poly_from_expr', 'polygamma', 'polylog', 'polys', 'posify', 'postfixes', 'postorder_traversal', 'powdenest', 'powsimp', 'pprint', 'pprint_try_use_unicode', 'pprint_use_unicode', 'pquo', 'prefixes', 'prem', 'preorder_traversal', 'pretty', 'pretty_print', 'preview', 'prevprime', 'prime', 'prime_decomp', 'prime_valuation', 'primefactors', 'primenu', 'primeomega', 'primepi', 'primerange', 'primitive', 'primitive_element', 'primitive_root', 'primorial', 'principal_branch', 'print_ccode', 'print_fcode', 'print_glsl', 'print_gtk', 'print_jscode', 'print_latex', 'print_maple_code', 'print_mathml', 'print_python', 'print_rcode', 'print_tree', 'printing', 'prod', 'product', 'proper_divisor_count', 'proper_divisors', 'public', 'pycode', 'python', 'quadratic_congruence', 'quadratic_residues', 'quo', 'rad', 'radsimp', 'randMatrix', 'random', 'random_poly', 'randprime', 'rational_interpolate', 'ratsimp', 'ratsimpmodprime', 'rcode', 'rcollect', 're', 'real_root', 'real_roots', 'reduce_abs_inequalities', 'reduce_abs_inequality', 'reduce_inequalities', 'reduced', 'reduced_totient', 'refine', 'refine_root', 'register_handler', 'release', 'rem', 'remove_handler', 'reshape', 'residue', 'resultant', 'rf', 'riemann_xi', 'ring', 'root', 'rootof', 'roots', 'rot_axis1', 'rot_axis2', 'rot_axis3', 'rot_ccw_axis1', 'rot_ccw_axis2', 'rot_ccw_axis3', 'rot_givens', 'rotations', 'round_two', 'rsolve', 'rsolve_hyper', 'rsolve_poly', 'rsolve_ratio', 'rust_code', 'satisfiable', 'sec', 'sech', 'separatevars', 'sequence', 'series', 'seterr', 'sfield', 'shape', 'sieve', 'sift', 'sign', 'signsimp', 'simplify', 'simplify_logic', 'sin', 'sinc', 'sine_transform', 'singularities', 'singularityintegrate', 'sinh', 'smtlib_code', 'solve', 'solve_linear', 'solve_linear_system', 'solve_linear_system_LU', 'solve_poly_inequality', 'solve_poly_system', 'solve_rational_inequalities', 'solve_triangulated', 'solve_undetermined_coeffs', 'solve_univariate_inequality', 'solveset', 'sparse_mask', 'sqf', 'sqf_list', 'sqf_norm', 'sqf_part', 'sqrt', 'sqrt_mod', 'sqrt_mod_iter', 'sqrtdenest', 'srepr', 'sring', 'sstr', 'sstrrepr', 'stationary_points', 'stieltjes', 'strategies', 'sturm', 'subfactorial', 'subresultants', 'subsets', 'substitution', 'summation', 'swinnerton_dyer_poly', 'symarray', 'symbols', 'symmetric_poly', 'symmetrize', 'sympify', 'sympy', 'take', 'tan', 'tanh', 'tensor', 'tensorcontraction', 'tensordiagonal', 'tensorproduct', 'terms_gcd', 'test', 'textplot', 'threaded', 'timed', 'to_cnf', 'to_dnf', 'to_nnf', 'to_number_field', 'together', 'topological_sort', 'torch', 'total_degree', 'totient', 'tqdm', 'trace', 'trailing', 'transpose', 'tribonacci', 'trigamma', 'trigsimp', 'true', 'trunc', 'unbranched_argument', 'unflatten', 'unpolarify', 'uppergamma', 'use', 'utilities', 'var', 'variations', 'vectorize', 'vfield', 'viete', 'vring', 'wronskian', 'xfield', 'xring', 'xthreaded', 'yaml', 'yn', 'zeros', 'zeta', 'zoo']\n"
          ]
        }
      ],
      "source": [
        "import kan\n",
        "print(dir(kan))"
      ]
    },
    {
      "cell_type": "code",
      "execution_count": null,
      "id": "7bb69531",
      "metadata": {},
      "outputs": [
        {
          "name": "stdout",
          "output_type": "stream",
          "text": [
            "Name: pykan\n",
            "Version: 0.2.8\n",
            "Summary: Kolmogorov Arnold Networks\n",
            "Home-page: \n",
            "Author: Ziming Liu\n",
            "Author-email: zmliu@mit.edu\n",
            "License: \n",
            "Location: c:\\Users\\Kshitij\\Downloads\\Major Project\\.venv\\Lib\\site-packages\n",
            "Requires: \n",
            "Required-by: \n",
            "Note: you may need to restart the kernel to use updated packages.\n"
          ]
        }
      ],
      "source": [
        "%pip show pykan"
      ]
    },
    {
      "cell_type": "code",
      "execution_count": 14,
      "id": "eeb444be",
      "metadata": {},
      "outputs": [
        {
          "name": "stdout",
          "output_type": "stream",
          "text": [
            "checkpoint directory created: ./model\n",
            "saving model version 0.0\n"
          ]
        }
      ],
      "source": [
        "from kan import KAN\n",
        "model = KAN(width=[2, 5, 1])"
      ]
    },
    {
      "cell_type": "code",
      "execution_count": 15,
      "id": "047a8407",
      "metadata": {},
      "outputs": [],
      "source": [
        "from kan.utils import create_dataset\n",
        "f = lambda x: 3*x[:,[0]]**3+2*x[:,[0]]+4 + 2 * x[:,[0]] * x[:,[1]] ** 2 + 3 * x[:,[1]] ** 3\n",
        "dataset = create_dataset(f, n_var=2)"
      ]
    },
    {
      "cell_type": "code",
      "execution_count": 16,
      "id": "952245e3",
      "metadata": {},
      "outputs": [
        {
          "data": {
            "image/png": "[encoded data removed]",
            "text/plain": [
              "<Figure size 500x400 with 22 Axes>"
            ]
          },
          "metadata": {},
          "output_type": "display_data"
        }
      ],
      "source": [
        "model(dataset['train_input']);\n",
        "model.plot()"
      ]
    },
    {
      "cell_type": "code",
      "execution_count": 17,
      "id": "2815e2eb",
      "metadata": {},
      "outputs": [
        {
          "name": "stderr",
          "output_type": "stream",
          "text": [
            "| train_loss: 1.75e-03 | test_loss: 1.88e-03 | reg: 2.15e+01 | : 100%|█| 1000/1000 [01:30<00:00, 11."
          ]
        },
        {
          "name": "stdout",
          "output_type": "stream",
          "text": [
            "saving model version 0.1\n"
          ]
        },
        {
          "name": "stderr",
          "output_type": "stream",
          "text": [
            "\n"
          ]
        }
      ],
      "source": [
        "model.fit(dataset, steps=1000);"
      ]
    },
    {
      "cell_type": "markdown",
      "id": "78f5403d",
      "metadata": {},
      "source": [
        "## KANs Implementation"
      ]
    },
    {
      "cell_type": "code",
      "execution_count": 47,
      "id": "2877f204",
      "metadata": {},
      "outputs": [
        {
          "name": "stdout",
          "output_type": "stream",
          "text": [
            "False\n",
            "No GPU detected\n"
          ]
        }
      ],
      "source": [
        "import torch\n",
        "print(torch.cuda.is_available())\n",
        "print(torch.cuda.get_device_name(0) if torch.cuda.is_available() else \"No GPU detected\")"
      ]
    },
    {
      "cell_type": "code",
      "execution_count": 52,
      "id": "894425e2",
      "metadata": {},
      "outputs": [
        {
          "data": {
            "text/plain": [
              "device(type='cpu')"
            ]
          },
          "execution_count": 52,
          "metadata": {},
          "output_type": "execute_result"
        }
      ],
      "source": [
        "import torch\n",
        "\n",
        "device = torch.device(\"cuda\" if torch.cuda.is_available() else \"cpu\")\n",
        "device"
      ]
    },
    {
      "cell_type": "code",
      "execution_count": 57,
      "id": "pIsHGF7S2bNu",
      "metadata": {
        "colab": {
          "base_uri": "https://localhost:8080/",
          "height": 211
        },
        "id": "pIsHGF7S2bNu",
        "outputId": "d52c3853-4d14-4d65-ad86-c2fb82d51fc7"
      },
      "outputs": [
        {
          "name": "stdout",
          "output_type": "stream",
          "text": [
            "checkpoint directory created: ./model\n",
            "saving model version 0.0\n"
          ]
        }
      ],
      "source": [
        "import torch\n",
        "import numpy as np\n",
        "from kan import KAN\n",
        "# Prepare the A_Z dataset for KAN\n",
        "# The input shape for KAN is [batch_size, num_features].\n",
        "# Our X_train and X_test are already flattened and scaled.\n",
        "# Convert numpy arrays to tensors\n",
        "dataset_kan = {\n",
        "    'train_input': torch.from_numpy(X_train.reshape(X_train.shape[0], -1)),\n",
        "    'test_input': torch.from_numpy(X_test.reshape(X_test.shape[0], -1)),\n",
        "    'train_label': torch.from_numpy(y_train.astype(np.float32)),\n",
        "    'test_label': torch.from_numpy(y_test.astype(np.float32))\n",
        "}\n",
        "\n",
        "# KAN model with appropriate input and output dimensions\n",
        "# Input dimension is 784 (28*28)\n",
        "# Output dimension is 26 (number of classes)\n",
        "kan = KAN(width=[784, 64, 32, 26])\n",
        "\n",
        "kan = kan.to(device)  # <— move model to GPU if available\n",
        "\n",
        "#\n",
        "# kan(dataset_kan['train_input']);\n",
        "# kan.plot()"
      ]
    },
    {
      "cell_type": "code",
      "execution_count": 58,
      "id": "be1a1ccc",
      "metadata": {},
      "outputs": [
        {
          "ename": "KeyboardInterrupt",
          "evalue": "",
          "output_type": "error",
          "traceback": [
            "\u001b[31m---------------------------------------------------------------------------\u001b[39m",
            "\u001b[31mKeyboardInterrupt\u001b[39m                         Traceback (most recent call last)",
            "\u001b[36mCell\u001b[39m\u001b[36m \u001b[39m\u001b[32mIn[58]\u001b[39m\u001b[32m, line 5\u001b[39m\n\u001b[32m      3\u001b[39m batch_x = dataset_kan[\u001b[33m'\u001b[39m\u001b[33mtrain_input\u001b[39m\u001b[33m'\u001b[39m][i:i+batch_size]\n\u001b[32m      4\u001b[39m batch_y = dataset_kan[\u001b[33m'\u001b[39m\u001b[33mtrain_label\u001b[39m\u001b[33m'\u001b[39m][i:i+batch_size]\n\u001b[32m----> \u001b[39m\u001b[32m5\u001b[39m output = \u001b[43mkan\u001b[49m\u001b[43m(\u001b[49m\u001b[43mbatch_x\u001b[49m\u001b[43m)\u001b[49m\n",
            "\u001b[36mFile \u001b[39m\u001b[32mc:\\Users\\Kshitij\\Downloads\\Major Project\\.venv\\Lib\\site-packages\\torch\\nn\\modules\\module.py:1775\u001b[39m, in \u001b[36mModule._wrapped_call_impl\u001b[39m\u001b[34m(self, *args, **kwargs)\u001b[39m\n\u001b[32m   1773\u001b[39m     \u001b[38;5;28;01mreturn\u001b[39;00m \u001b[38;5;28mself\u001b[39m._compiled_call_impl(*args, **kwargs)  \u001b[38;5;66;03m# type: ignore[misc]\u001b[39;00m\n\u001b[32m   1774\u001b[39m \u001b[38;5;28;01melse\u001b[39;00m:\n\u001b[32m-> \u001b[39m\u001b[32m1775\u001b[39m     \u001b[38;5;28;01mreturn\u001b[39;00m \u001b[38;5;28;43mself\u001b[39;49m\u001b[43m.\u001b[49m\u001b[43m_call_impl\u001b[49m\u001b[43m(\u001b[49m\u001b[43m*\u001b[49m\u001b[43margs\u001b[49m\u001b[43m,\u001b[49m\u001b[43m \u001b[49m\u001b[43m*\u001b[49m\u001b[43m*\u001b[49m\u001b[43mkwargs\u001b[49m\u001b[43m)\u001b[49m\n",
            "\u001b[36mFile \u001b[39m\u001b[32mc:\\Users\\Kshitij\\Downloads\\Major Project\\.venv\\Lib\\site-packages\\torch\\nn\\modules\\module.py:1786\u001b[39m, in \u001b[36mModule._call_impl\u001b[39m\u001b[34m(self, *args, **kwargs)\u001b[39m\n\u001b[32m   1781\u001b[39m \u001b[38;5;66;03m# If we don't have any hooks, we want to skip the rest of the logic in\u001b[39;00m\n\u001b[32m   1782\u001b[39m \u001b[38;5;66;03m# this function, and just call forward.\u001b[39;00m\n\u001b[32m   1783\u001b[39m \u001b[38;5;28;01mif\u001b[39;00m \u001b[38;5;129;01mnot\u001b[39;00m (\u001b[38;5;28mself\u001b[39m._backward_hooks \u001b[38;5;129;01mor\u001b[39;00m \u001b[38;5;28mself\u001b[39m._backward_pre_hooks \u001b[38;5;129;01mor\u001b[39;00m \u001b[38;5;28mself\u001b[39m._forward_hooks \u001b[38;5;129;01mor\u001b[39;00m \u001b[38;5;28mself\u001b[39m._forward_pre_hooks\n\u001b[32m   1784\u001b[39m         \u001b[38;5;129;01mor\u001b[39;00m _global_backward_pre_hooks \u001b[38;5;129;01mor\u001b[39;00m _global_backward_hooks\n\u001b[32m   1785\u001b[39m         \u001b[38;5;129;01mor\u001b[39;00m _global_forward_hooks \u001b[38;5;129;01mor\u001b[39;00m _global_forward_pre_hooks):\n\u001b[32m-> \u001b[39m\u001b[32m1786\u001b[39m     \u001b[38;5;28;01mreturn\u001b[39;00m \u001b[43mforward_call\u001b[49m\u001b[43m(\u001b[49m\u001b[43m*\u001b[49m\u001b[43margs\u001b[49m\u001b[43m,\u001b[49m\u001b[43m \u001b[49m\u001b[43m*\u001b[49m\u001b[43m*\u001b[49m\u001b[43mkwargs\u001b[49m\u001b[43m)\u001b[49m\n\u001b[32m   1788\u001b[39m result = \u001b[38;5;28;01mNone\u001b[39;00m\n\u001b[32m   1789\u001b[39m called_always_called_hooks = \u001b[38;5;28mset\u001b[39m()\n",
            "\u001b[36mFile \u001b[39m\u001b[32mc:\\Users\\Kshitij\\Downloads\\Major Project\\.venv\\Lib\\site-packages\\kan\\MultKAN.py:807\u001b[39m, in \u001b[36mMultKAN.forward\u001b[39m\u001b[34m(self, x, singularity_avoiding, y_th)\u001b[39m\n\u001b[32m    804\u001b[39m \u001b[38;5;66;03m#print(preacts, postacts_numerical, postspline)\u001b[39;00m\n\u001b[32m    806\u001b[39m \u001b[38;5;28;01mif\u001b[39;00m \u001b[38;5;28mself\u001b[39m.symbolic_enabled == \u001b[38;5;28;01mTrue\u001b[39;00m:\n\u001b[32m--> \u001b[39m\u001b[32m807\u001b[39m     x_symbolic, postacts_symbolic = \u001b[38;5;28;43mself\u001b[39;49m\u001b[43m.\u001b[49m\u001b[43msymbolic_fun\u001b[49m\u001b[43m[\u001b[49m\u001b[43ml\u001b[49m\u001b[43m]\u001b[49m\u001b[43m(\u001b[49m\u001b[43mx\u001b[49m\u001b[43m,\u001b[49m\u001b[43m \u001b[49m\u001b[43msingularity_avoiding\u001b[49m\u001b[43m=\u001b[49m\u001b[43msingularity_avoiding\u001b[49m\u001b[43m,\u001b[49m\u001b[43m \u001b[49m\u001b[43my_th\u001b[49m\u001b[43m=\u001b[49m\u001b[43my_th\u001b[49m\u001b[43m)\u001b[49m\n\u001b[32m    808\u001b[39m \u001b[38;5;28;01melse\u001b[39;00m:\n\u001b[32m    809\u001b[39m     x_symbolic = \u001b[32m0.\u001b[39m\n",
            "\u001b[36mFile \u001b[39m\u001b[32mc:\\Users\\Kshitij\\Downloads\\Major Project\\.venv\\Lib\\site-packages\\torch\\nn\\modules\\module.py:1775\u001b[39m, in \u001b[36mModule._wrapped_call_impl\u001b[39m\u001b[34m(self, *args, **kwargs)\u001b[39m\n\u001b[32m   1773\u001b[39m     \u001b[38;5;28;01mreturn\u001b[39;00m \u001b[38;5;28mself\u001b[39m._compiled_call_impl(*args, **kwargs)  \u001b[38;5;66;03m# type: ignore[misc]\u001b[39;00m\n\u001b[32m   1774\u001b[39m \u001b[38;5;28;01melse\u001b[39;00m:\n\u001b[32m-> \u001b[39m\u001b[32m1775\u001b[39m     \u001b[38;5;28;01mreturn\u001b[39;00m \u001b[38;5;28;43mself\u001b[39;49m\u001b[43m.\u001b[49m\u001b[43m_call_impl\u001b[49m\u001b[43m(\u001b[49m\u001b[43m*\u001b[49m\u001b[43margs\u001b[49m\u001b[43m,\u001b[49m\u001b[43m \u001b[49m\u001b[43m*\u001b[49m\u001b[43m*\u001b[49m\u001b[43mkwargs\u001b[49m\u001b[43m)\u001b[49m\n",
            "\u001b[36mFile \u001b[39m\u001b[32mc:\\Users\\Kshitij\\Downloads\\Major Project\\.venv\\Lib\\site-packages\\torch\\nn\\modules\\module.py:1786\u001b[39m, in \u001b[36mModule._call_impl\u001b[39m\u001b[34m(self, *args, **kwargs)\u001b[39m\n\u001b[32m   1781\u001b[39m \u001b[38;5;66;03m# If we don't have any hooks, we want to skip the rest of the logic in\u001b[39;00m\n\u001b[32m   1782\u001b[39m \u001b[38;5;66;03m# this function, and just call forward.\u001b[39;00m\n\u001b[32m   1783\u001b[39m \u001b[38;5;28;01mif\u001b[39;00m \u001b[38;5;129;01mnot\u001b[39;00m (\u001b[38;5;28mself\u001b[39m._backward_hooks \u001b[38;5;129;01mor\u001b[39;00m \u001b[38;5;28mself\u001b[39m._backward_pre_hooks \u001b[38;5;129;01mor\u001b[39;00m \u001b[38;5;28mself\u001b[39m._forward_hooks \u001b[38;5;129;01mor\u001b[39;00m \u001b[38;5;28mself\u001b[39m._forward_pre_hooks\n\u001b[32m   1784\u001b[39m         \u001b[38;5;129;01mor\u001b[39;00m _global_backward_pre_hooks \u001b[38;5;129;01mor\u001b[39;00m _global_backward_hooks\n\u001b[32m   1785\u001b[39m         \u001b[38;5;129;01mor\u001b[39;00m _global_forward_hooks \u001b[38;5;129;01mor\u001b[39;00m _global_forward_pre_hooks):\n\u001b[32m-> \u001b[39m\u001b[32m1786\u001b[39m     \u001b[38;5;28;01mreturn\u001b[39;00m \u001b[43mforward_call\u001b[49m\u001b[43m(\u001b[49m\u001b[43m*\u001b[49m\u001b[43margs\u001b[49m\u001b[43m,\u001b[49m\u001b[43m \u001b[49m\u001b[43m*\u001b[49m\u001b[43m*\u001b[49m\u001b[43mkwargs\u001b[49m\u001b[43m)\u001b[49m\n\u001b[32m   1788\u001b[39m result = \u001b[38;5;28;01mNone\u001b[39;00m\n\u001b[32m   1789\u001b[39m called_always_called_hooks = \u001b[38;5;28mset\u001b[39m()\n",
            "\u001b[36mFile \u001b[39m\u001b[32mc:\\Users\\Kshitij\\Downloads\\Major Project\\.venv\\Lib\\site-packages\\kan\\Symbolic_KANLayer.py:116\u001b[39m, in \u001b[36mSymbolic_KANLayer.forward\u001b[39m\u001b[34m(self, x, singularity_avoiding, y_th)\u001b[39m\n\u001b[32m    114\u001b[39m         xij = \u001b[38;5;28mself\u001b[39m.affine[j,i,\u001b[32m2\u001b[39m]*\u001b[38;5;28mself\u001b[39m.funs_avoid_singularity[j][i](\u001b[38;5;28mself\u001b[39m.affine[j,i,\u001b[32m0\u001b[39m]*x[:,[i]]+\u001b[38;5;28mself\u001b[39m.affine[j,i,\u001b[32m1\u001b[39m], torch.tensor(y_th))[\u001b[32m1\u001b[39m]+\u001b[38;5;28mself\u001b[39m.affine[j,i,\u001b[32m3\u001b[39m]\n\u001b[32m    115\u001b[39m     \u001b[38;5;28;01melse\u001b[39;00m:\n\u001b[32m--> \u001b[39m\u001b[32m116\u001b[39m         xij = \u001b[38;5;28mself\u001b[39m.affine[j,i,\u001b[32m2\u001b[39m]*\u001b[38;5;28mself\u001b[39m.funs[j][i](\u001b[38;5;28mself\u001b[39m.affine[j,i,\u001b[32m0\u001b[39m]*x[:,[i]]+\u001b[38;5;28;43mself\u001b[39;49m\u001b[43m.\u001b[49m\u001b[43maffine\u001b[49m[j,i,\u001b[32m1\u001b[39m])+\u001b[38;5;28mself\u001b[39m.affine[j,i,\u001b[32m3\u001b[39m]\n\u001b[32m    117\u001b[39m     postacts_.append(\u001b[38;5;28mself\u001b[39m.mask[j][i]*xij)\n\u001b[32m    118\u001b[39m postacts.append(torch.stack(postacts_))\n",
            "\u001b[36mFile \u001b[39m\u001b[32mc:\\Users\\Kshitij\\Downloads\\Major Project\\.venv\\Lib\\site-packages\\torch\\nn\\modules\\module.py:1951\u001b[39m, in \u001b[36mModule.__getattr__\u001b[39m\u001b[34m(self, name)\u001b[39m\n\u001b[32m   1946\u001b[39m         \u001b[38;5;28mself\u001b[39m._backward_pre_hooks = OrderedDict()\n\u001b[32m   1948\u001b[39m \u001b[38;5;66;03m# It is crucial that the return type is not annotated as `Any`, otherwise type checking\u001b[39;00m\n\u001b[32m   1949\u001b[39m \u001b[38;5;66;03m# on `torch.nn.Module` and all its subclasses is largely disabled as a result. See:\u001b[39;00m\n\u001b[32m   1950\u001b[39m \u001b[38;5;66;03m# https://github.com/pytorch/pytorch/pull/115074\u001b[39;00m\n\u001b[32m-> \u001b[39m\u001b[32m1951\u001b[39m \u001b[38;5;28;01mdef\u001b[39;00m\u001b[38;5;250m \u001b[39m\u001b[34m__getattr__\u001b[39m(\u001b[38;5;28mself\u001b[39m, name: \u001b[38;5;28mstr\u001b[39m) -> Union[Tensor, \u001b[33m\"\u001b[39m\u001b[33mModule\u001b[39m\u001b[33m\"\u001b[39m]:\n\u001b[32m   1952\u001b[39m     \u001b[38;5;28;01mif\u001b[39;00m \u001b[33m\"\u001b[39m\u001b[33m_parameters\u001b[39m\u001b[33m\"\u001b[39m \u001b[38;5;129;01min\u001b[39;00m \u001b[38;5;28mself\u001b[39m.\u001b[34m__dict__\u001b[39m:\n\u001b[32m   1953\u001b[39m         _parameters = \u001b[38;5;28mself\u001b[39m.\u001b[34m__dict__\u001b[39m[\u001b[33m\"\u001b[39m\u001b[33m_parameters\u001b[39m\u001b[33m\"\u001b[39m]\n",
            "\u001b[31mKeyboardInterrupt\u001b[39m: "
          ]
        }
      ],
      "source": [
        "batch_size = 256\n",
        "for i in range(0, len(dataset_kan['train_input']), batch_size):\n",
        "    batch_x = dataset_kan['train_input'][i:i+batch_size]\n",
        "    batch_y = dataset_kan['train_label'][i:i+batch_size]\n",
        "    output = kan(batch_x)\n"
      ]
    },
    {
      "cell_type": "code",
      "execution_count": null,
      "id": "Jp6tM2a12sno",
      "metadata": {
        "id": "Jp6tM2a12sno"
      },
      "outputs": [],
      "source": [
        "# Train the KAN model on the A_Z dataset\n",
        "kan.fit(dataset_kan, steps=100)"
      ]
    },
    {
      "cell_type": "code",
      "execution_count": null,
      "id": "MIkRrMKu21EP",
      "metadata": {
        "id": "MIkRrMKu21EP"
      },
      "outputs": [],
      "source": [
        "kan = kan.prune()\n",
        "kan.plot()"
      ]
    }
  ],
  "metadata": {
    "accelerator": "TPU",
    "colab": {
      "gpuType": "V5E1",
      "provenance": []
    },
    "kernelspec": {
      "display_name": ".venv",
      "language": "python",
      "name": "python3"
    },
    "language_info": {
      "codemirror_mode": {
        "name": "ipython",
        "version": 3
      },
      "file_extension": ".py",
      "mimetype": "text/x-python",
      "name": "python",
      "nbconvert_exporter": "python",
      "pygments_lexer": "ipython3",
      "version": "3.11.9"
    }
  },
  "nbformat": 4,
  "nbformat_minor": 5
}
